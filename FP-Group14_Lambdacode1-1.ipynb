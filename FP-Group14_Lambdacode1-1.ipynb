{
 "cells": [
  {
   "cell_type": "code",
   "execution_count": null,
   "id": "d93591a1",
   "metadata": {},
   "outputs": [],
   "source": [
    "import boto3\n",
    "import pandas as pd\n",
    "from datetime import datetime\n",
    "import io\n",
    "\n",
    "def lambda_handler(event, context):\n",
    "    \n",
    "    # Set up S3 client\n",
    "    s3 = boto3.client('s3')\n",
    "    \n",
    "    # Get the input file name and bucket name from the event\n",
    "    file_obj = event[\"Records\"][0]\n",
    "    bucket_name = file_obj['s3']['bucket']['name']\n",
    "    file_name = file_obj['s3']['object']['key']\n",
    "    \n",
    "    # Load the CSV file into a pandas dataframe\n",
    "    obj = s3.get_object(Bucket=bucket_name, Key=file_name)\n",
    "    df = pd.read_csv(io.BytesIO(obj['Body'].read()))\n",
    "    \n",
    "    # Drop rows with null values in specified columns\n",
    "    df = df.dropna(subset=['column_1', 'column_2'])\n",
    "    \n",
    "    # Add a new column with the current timestamp value\n",
    "    df['new_column'] = datetime.now()\n",
    "    \n",
    "    # Convert the cleaned dataframe back to CSV format\n",
    "    cleaned_csv = df.to_csv(index=False)\n",
    "    \n",
    "    # Set up the output S3 bucket name and file name\n",
    "    output_bucket = 'your-output-bucket'\n",
    "    output_file_name = 'cleaned_file.csv'\n",
    "    \n",
    "    # Upload the cleaned CSV file to the output S3 bucket\n",
    "    s3.put_object(Bucket=output_bucket, Key=output_file_name, Body=cleaned_csv)\n",
    "    \n",
    "    # Delete the original CSV file from the input bucket\n",
    "    s3.delete_object(Bucket=bucket_name, Key=file_name)\n",
    "    \n",
    "    return {\n",
    "        'statusCode': 200,\n",
    "        'body': 'CSV file cleaned and moved to output S3 bucket!'\n",
    "    }"
   ]
  }
 ],
 "metadata": {
  "kernelspec": {
   "display_name": "anaconda-panel-2023.05-py310",
   "language": "python",
   "name": "conda-env-anaconda-panel-2023.05-py310-py"
  },
  "language_info": {
   "codemirror_mode": {
    "name": "ipython",
    "version": 3
   },
   "file_extension": ".py",
   "mimetype": "text/x-python",
   "name": "python",
   "nbconvert_exporter": "python",
   "pygments_lexer": "ipython3",
   "version": "3.11.5"
  }
 },
 "nbformat": 4,
 "nbformat_minor": 5
}
