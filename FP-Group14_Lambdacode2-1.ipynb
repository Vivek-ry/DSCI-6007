{
 "cells": [
  {
   "cell_type": "code",
   "execution_count": null,
   "id": "3947df97",
   "metadata": {},
   "outputs": [],
   "source": [
    "import boto3\n",
    "import psycopg2\n",
    "import csv\n",
    "\n",
    "s3 = boto3.client('s3')\n",
    "redshift = psycopg2.connect(\n",
    "    host='<redshift_host>',\n",
    "    port='<redshift_port>',\n",
    "    dbname='<redshift_database_name>',\n",
    "    user='<redshift_username>',\n",
    "    password='<redshift_password>'\n",
    ")\n",
    "\n",
    "def lambda_handler(event, context):\n",
    "    # Get the S3 bucket and key for the CSV file\n",
    "    bucket = event['Records'][0]['s3']['bucket']['name']\n",
    "    key = event['Records'][0]['s3']['object']['key']\n",
    "    \n",
    "    # Download the CSV file from S3\n",
    "    csv_file = s3.get_object(Bucket=bucket, Key=key)['Body'].read().decode('utf-8').splitlines()\n",
    "    \n",
    "    # Open a cursor for the Redshift connection\n",
    "    cursor = redshift.cursor()\n",
    "    \n",
    "    # Loop through each row in the CSV file and insert it into the Redshift table\n",
    "    for row in csv.reader(csv_file):\n",
    "        cursor.execute(\"INSERT INTO <redshift_table_name> (col1, col2, col3) VALUES (%s, %s, %s)\", row)\n",
    "    \n",
    "    # Commit the changes to the Redshift database\n",
    "    redshift.commit()\n",
    "    \n",
    "    # Close the cursor and database connection\n",
    "    cursor.close()\n",
    "    redshift.close()"
   ]
  }
 ],
 "metadata": {
  "kernelspec": {
   "display_name": "anaconda-panel-2023.05-py310",
   "language": "python",
   "name": "conda-env-anaconda-panel-2023.05-py310-py"
  },
  "language_info": {
   "codemirror_mode": {
    "name": "ipython",
    "version": 3
   },
   "file_extension": ".py",
   "mimetype": "text/x-python",
   "name": "python",
   "nbconvert_exporter": "python",
   "pygments_lexer": "ipython3",
   "version": "3.11.5"
  }
 },
 "nbformat": 4,
 "nbformat_minor": 5
}
